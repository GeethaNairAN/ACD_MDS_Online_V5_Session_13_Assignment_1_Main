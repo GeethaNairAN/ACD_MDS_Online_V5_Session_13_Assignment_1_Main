{
 "cells": [
  {
   "cell_type": "code",
   "execution_count": 1,
   "metadata": {},
   "outputs": [],
   "source": [
    "# Import the required modules\n",
    "import pandas as pd\n",
    "from sqlalchemy import create_engine"
   ]
  },
  {
   "cell_type": "code",
   "execution_count": 2,
   "metadata": {},
   "outputs": [
    {
     "name": "stdout",
     "output_type": "stream",
     "text": [
      "   0                  1       2           3   4                    5   \\\n",
      "0  39          State-gov   77516   Bachelors  13        Never-married   \n",
      "1  50   Self-emp-not-inc   83311   Bachelors  13   Married-civ-spouse   \n",
      "2  38            Private  215646     HS-grad   9             Divorced   \n",
      "\n",
      "                   6               7       8      9     10  11  12  \\\n",
      "0        Adm-clerical   Not-in-family   White   Male  2174   0  40   \n",
      "1     Exec-managerial         Husband   White   Male     0   0  13   \n",
      "2   Handlers-cleaners   Not-in-family   White   Male     0   0  40   \n",
      "\n",
      "               13      14  \n",
      "0   United-States   <=50K  \n",
      "1   United-States   <=50K  \n",
      "2   United-States   <=50K  \n",
      "\n",
      "The number of records in the dataframe dfa is :  32561\n"
     ]
    }
   ],
   "source": [
    "# Read the dataset and assign to a dataframe dfa. \n",
    "# Check the count of records in the dataframe.  \n",
    "dfa=pd.read_csv('https://archive.ics.uci.edu/ml/machine-learning-databases/adult/adult.data',header=None)\n",
    "print(dfa.head(3))\n",
    "print('\\nThe number of records in the dataframe dfa is : ', dfa[0].count())"
   ]
  },
  {
   "cell_type": "code",
   "execution_count": 3,
   "metadata": {},
   "outputs": [
    {
     "name": "stdout",
     "output_type": "stream",
     "text": [
      "The number of records in the sample dataframe is :  3256\n"
     ]
    }
   ],
   "source": [
    "# Create a sample dataframe dfb - fraction 0.1 is used to get the sample size.\n",
    "dfb=dfa.sample(frac=0.1)\n",
    "print('The number of records in the sample dataframe is : ', dfb[0].count())"
   ]
  },
  {
   "cell_type": "code",
   "execution_count": 4,
   "metadata": {},
   "outputs": [],
   "source": [
    "# Rename the columns in the dataframe \n",
    "dfb.columns=['age', 'workclass', 'fnlwgt','education','education-num','marital-status','occupation',\n",
    "             'relationship','race','sex','capital-gain','capital-loss', 'hours-per-week',\n",
    "                   'native-country','grossincome']"
   ]
  },
  {
   "cell_type": "code",
   "execution_count": 5,
   "metadata": {},
   "outputs": [],
   "source": [
    "# Create a sqlite3 database using SQLAlchemy. Name it sqladb1.\n",
    "engine = create_engine('sqlite://', echo=False)\n",
    "dfb.to_sql('sqladb1',con=engine)"
   ]
  },
  {
   "cell_type": "code",
   "execution_count": 6,
   "metadata": {},
   "outputs": [
    {
     "name": "stdout",
     "output_type": "stream",
     "text": [
      "Values of workclass before update \n",
      " *******************************\n",
      "[(' Private',), (' Local-gov',), (' ?',), (' Self-emp-not-inc',), (' State-gov',), (' Self-emp-inc',), (' Federal-gov',)]\n",
      "Values of workclass after update \n",
      " *******************************\n",
      "[(' Private',), (' Local-gov',), (' Unknown',), (' Self-emp-not-inc',), (' State-gov',), (' Self-emp-inc',), (' Federal-gov',)]\n"
     ]
    }
   ],
   "source": [
    "# First Update Query - Update the workclass with ' ?' as ' Unknown' \n",
    "result1=engine.execute('SELECT DISTINCT workclass FROM sqladb1;').fetchall()\n",
    "print('Values of workclass before update \\n', '*'*31)\n",
    "print(result1)\n",
    "# Update the workclass values\n",
    "engine.execute('UPDATE sqladb1 SET workclass = \" Unknown\" WHERE workclass = \" ?\";')\n",
    "# Show the value is updated. \n",
    "resulta1=engine.execute('SELECT DISTINCT workclass FROM sqladb1;').fetchall()\n",
    "print('Values of workclass after update \\n', '*'*31)\n",
    "print(resulta1)"
   ]
  },
  {
   "cell_type": "code",
   "execution_count": 7,
   "metadata": {},
   "outputs": [
    {
     "name": "stdout",
     "output_type": "stream",
     "text": [
      "Values of occupation before update \n",
      " *********************************\n",
      "[(' Adm-clerical',), (' Exec-managerial',), (' Prof-specialty',), (' ?',), (' Craft-repair',), (' Other-service',), (' Farming-fishing',), (' Protective-serv',), (' Machine-op-inspct',), (' Transport-moving',), (' Sales',), (' Handlers-cleaners',), (' Tech-support',), (' Priv-house-serv',)]\n",
      "\n",
      "Values of occupation after update \n",
      " *********************************\n",
      "[(' Adm-clerical',), (' Exec-managerial',), (' Prof-specialty',), (' Unknown',), (' Craft-repair',), (' Other-service',), (' Farming-fishing',), (' Protective-serv',), (' Machine-op-inspct',), (' Transport-moving',), (' Sales',), (' Handlers-cleaners',), (' Tech-support',), (' Priv-house-serv',)]\n"
     ]
    }
   ],
   "source": [
    "# Second Update Query - Update the occupation with ' ?' as ' Unknown' \n",
    "result2=engine.execute('SELECT DISTINCT occupation FROM sqladb1;').fetchall()\n",
    "print('Values of occupation before update \\n', '*'*33)\n",
    "print(result2)\n",
    "# Update the workclass values\n",
    "engine.execute('UPDATE sqladb1 SET occupation = \" Unknown\" WHERE occupation = \" ?\";')\n",
    "# Show the value is updated. \n",
    "resulta2=engine.execute('SELECT DISTINCT occupation FROM sqladb1;').fetchall()\n",
    "print('\\nValues of occupation after update \\n', '*'*33)\n",
    "print(resulta2)"
   ]
  },
  {
   "cell_type": "code",
   "execution_count": 8,
   "metadata": {},
   "outputs": [
    {
     "name": "stdout",
     "output_type": "stream",
     "text": [
      "Number of people with age 90 before delete : 6\n",
      "Number of people with age 90 after delete : 0\n"
     ]
    }
   ],
   "source": [
    "# First Delete Query - Delete details of people of age 90 in the table.\n",
    "result3=engine.execute('SELECT COUNT(*) FROM sqladb1 WHERE age=90;').fetchall()\n",
    "print('Number of people with age 90 before delete :', result3[0][0])\n",
    "# Delete the records with people of age 90\n",
    "engine.execute('DELETE FROM sqladb1 WHERE age=90;')\n",
    "result3a=engine.execute('SELECT COUNT(*) FROM sqladb1 WHERE age=90;').fetchall()\n",
    "print('Number of people with age 90 after delete :', result3a[0][0])"
   ]
  },
  {
   "cell_type": "code",
   "execution_count": 9,
   "metadata": {},
   "outputs": [
    {
     "name": "stdout",
     "output_type": "stream",
     "text": [
      "Data in the table before delete \n",
      " ****************************\n",
      "[(6219, 46, ' Private', 175262, ' Assoc-acdm', 12, ' Married-civ-spouse', ' Adm-clerical', ' Husband', ' Asian-Pac-Islander', ' Male', 0, 0, 40, ' India', ' <=50K'), (2558, 58, ' State-gov', 110517, ' Doctorate', 16, ' Married-civ-spouse', ' Prof-specialty', ' Husband', ' Asian-Pac-Islander', ' Male', 4064, 0, 40, ' India', ' <=50K'), (4523, 57, ' Local-gov', 148509, ' Bachelors', 13, ' Married-civ-spouse', ' Prof-specialty', ' Husband', ' Asian-Pac-Islander', ' Male', 0, 0, 35, ' India', ' <=50K'), (7844, 35, ' Private', 107302, ' Masters', 14, ' Married-civ-spouse', ' Sales', ' Husband', ' White', ' Male', 0, 0, 40, ' India', ' <=50K'), (28693, 32, ' Private', 137367, ' 11th', 7, ' Never-married', ' Craft-repair', ' Not-in-family', ' Asian-Pac-Islander', ' Male', 0, 0, 40, ' India', ' <=50K'), (16923, 41, ' Private', 143003, ' Assoc-voc', 11, ' Married-civ-spouse', ' Other-service', ' Husband', ' Asian-Pac-Islander', ' Male', 7298, 0, 60, ' India', ' >50K'), (21128, 30, ' Private', 122889, ' Masters', 14, ' Married-civ-spouse', ' Prof-specialty', ' Husband', ' Asian-Pac-Islander', ' Male', 0, 0, 50, ' India', ' >50K'), (11260, 54, ' Private', 225599, ' Masters', 14, ' Married-civ-spouse', ' Prof-specialty', ' Husband', ' Asian-Pac-Islander', ' Male', 7298, 0, 40, ' India', ' >50K'), (27670, 61, ' Private', 80896, ' Masters', 14, ' Married-civ-spouse', ' Prof-specialty', ' Husband', ' Asian-Pac-Islander', ' Male', 0, 0, 45, ' India', ' >50K'), (26356, 34, ' Private', 99872, ' Masters', 14, ' Married-civ-spouse', ' Exec-managerial', ' Husband', ' Asian-Pac-Islander', ' Male', 3103, 0, 40, ' India', ' >50K'), (29207, 25, ' Local-gov', 124483, ' Bachelors', 13, ' Never-married', ' Adm-clerical', ' Not-in-family', ' Asian-Pac-Islander', ' Male', 0, 0, 20, ' India', ' <=50K'), (11384, 34, ' Private', 98283, ' Prof-school', 15, ' Never-married', ' Tech-support', ' Not-in-family', ' Asian-Pac-Islander', ' Male', 0, 1564, 40, ' India', ' >50K'), (9128, 18, ' Self-emp-inc', 119422, ' HS-grad', 9, ' Never-married', ' Other-service', ' Unmarried', ' Asian-Pac-Islander', ' Female', 0, 0, 30, ' India', ' <=50K'), (16336, 47, ' Private', 191411, ' Masters', 14, ' Married-civ-spouse', ' Prof-specialty', ' Husband', ' Asian-Pac-Islander', ' Male', 0, 0, 45, ' India', ' <=50K')]\n",
      "\n",
      "Data in the table after delete \n",
      " ****************************\n"
     ]
    },
    {
     "data": {
      "text/plain": [
       "[(2558, 58, ' State-gov', 110517, ' Doctorate', 16, ' Married-civ-spouse', ' Prof-specialty', ' Husband', ' Asian-Pac-Islander', ' Male', 4064, 0, 40, ' India', ' <=50K'),\n",
       " (4523, 57, ' Local-gov', 148509, ' Bachelors', 13, ' Married-civ-spouse', ' Prof-specialty', ' Husband', ' Asian-Pac-Islander', ' Male', 0, 0, 35, ' India', ' <=50K'),\n",
       " (29207, 25, ' Local-gov', 124483, ' Bachelors', 13, ' Never-married', ' Adm-clerical', ' Not-in-family', ' Asian-Pac-Islander', ' Male', 0, 0, 20, ' India', ' <=50K')]"
      ]
     },
     "execution_count": 9,
     "metadata": {},
     "output_type": "execute_result"
    }
   ],
   "source": [
    "# Second Delete Query - Delete data from the table with country as India and work class as Private or Self-emp-inc\n",
    "result4=engine.execute('SELECT * FROM sqladb1 WHERE \"native-country\" = \" India\";').fetchall()\n",
    "print('Data in the table before delete \\n', '*'*28)\n",
    "print(result4)\n",
    "# Delete the data \n",
    "engine.execute('DELETE FROM sqladb1 WHERE \"native-country\" = \" India\" and workclass IN (\" Private\", \" Self-emp-inc\");')\n",
    "# Show the data after delete\n",
    "result4a=engine.execute('SELECT * FROM sqladb1 WHERE \"native-country\" = \" India\";').fetchall()\n",
    "print('\\nData in the table after delete \\n', '*'*28)\n",
    "result4a"
   ]
  },
  {
   "cell_type": "code",
   "execution_count": 10,
   "metadata": {},
   "outputs": [
    {
     "name": "stdout",
     "output_type": "stream",
     "text": [
      "Data for Thailand \n",
      " ***************\n"
     ]
    },
    {
     "data": {
      "text/plain": [
       "[(24202, 29, ' State-gov', 67053, ' HS-grad', 9, ' Never-married', ' Other-service', ' Not-in-family', ' Asian-Pac-Islander', ' Male', 0, 0, 40, ' Thailand', ' <=50K'),\n",
       " (21452, 45, ' Self-emp-not-inc', 182677, ' HS-grad', 9, ' Married-spouse-absent', ' Craft-repair', ' Not-in-family', ' Asian-Pac-Islander', ' Male', 0, 0, 40, ' Thailand', ' <=50K')]"
      ]
     },
     "execution_count": 10,
     "metadata": {},
     "output_type": "execute_result"
    }
   ],
   "source": [
    "# First Filter Query - Select data from the table with country as Thailand\n",
    "print('Data for Thailand \\n', '*'*15)\n",
    "engine.execute('SELECT * FROM sqladb1 WHERE \"native-country\" = \" Thailand\";').fetchall()"
   ]
  },
  {
   "cell_type": "code",
   "execution_count": 11,
   "metadata": {},
   "outputs": [
    {
     "name": "stdout",
     "output_type": "stream",
     "text": [
      "Data for Italy with  age greater than 40 \n",
      " **************************************************\n"
     ]
    },
    {
     "data": {
      "text/plain": [
       "[(28008, 42, ' Private', 202565, ' 1st-4th', 2, ' Married-civ-spouse', ' Machine-op-inspct', ' Husband', ' White', ' Male', 0, 0, 40, ' Italy', ' <=50K'),\n",
       " (31247, 53, ' Unknown', 155233, ' 12th', 8, ' Married-civ-spouse', ' Unknown', ' Wife', ' White', ' Female', 0, 0, 40, ' Italy', ' <=50K'),\n",
       " (16699, 50, ' Self-emp-inc', 123429, ' Bachelors', 13, ' Married-civ-spouse', ' Prof-specialty', ' Husband', ' White', ' Male', 0, 0, 45, ' Italy', ' >50K'),\n",
       " (18443, 43, ' Private', 144778, ' Bachelors', 13, ' Married-civ-spouse', ' Prof-specialty', ' Husband', ' White', ' Male', 0, 0, 55, ' Italy', ' >50K')]"
      ]
     },
     "execution_count": 11,
     "metadata": {},
     "output_type": "execute_result"
    }
   ],
   "source": [
    "# Second Filter Query - Select data from the table for Italy with age greater than 40 \n",
    "print('Data for Italy with  age greater than 40 \\n', '*'*50)\n",
    "engine.execute('SELECT * FROM sqladb1 WHERE \"native-country\" = \" Italy\" and age > 40;').fetchall()"
   ]
  },
  {
   "cell_type": "code",
   "execution_count": 12,
   "metadata": {},
   "outputs": [
    {
     "name": "stdout",
     "output_type": "stream",
     "text": [
      "Number of records for United States :  2916\n",
      "Maximum capital gain for United States :  99999\n"
     ]
    }
   ],
   "source": [
    "\"\"\"First function Query - Get the count of records from the table for United States and maximum value of \n",
    "   capital gain for United States\"\"\"\n",
    "q1=\"\"\"SELECT COUNT(*), MAX(\"capital-gain\") FROM sqladb1 WHERE \"native-country\" = \" United-States\" \n",
    "                GROUP BY 'capital-gain'\"\"\"\n",
    "result5=engine.execute(q1).fetchall()\n",
    "print('Number of records for United States : ', result5[0][0])\n",
    "print('Maximum capital gain for United States : ', result5[0][1])"
   ]
  },
  {
   "cell_type": "code",
   "execution_count": 13,
   "metadata": {},
   "outputs": [
    {
     "name": "stdout",
     "output_type": "stream",
     "text": [
      "Minimum finalweight value in the database :  19914\n",
      "Maximum finalweight value in the database :  1366120\n",
      "Average finalweight value in the database :  189388.01605433776\n"
     ]
    }
   ],
   "source": [
    "# Second Function query to get Minimum, Maximum and Average finalweight values in the database. \n",
    "result6=engine.execute('SELECT MIN(fnlwgt), MAX(fnlwgt), AVG(fnlwgt) FROM sqladb1;').fetchall()\n",
    "print('Minimum finalweight value in the database : ', result6[0][0])\n",
    "print('Maximum finalweight value in the database : ', result6[0][1])\n",
    "print('Average finalweight value in the database : ', result6[0][2])"
   ]
  },
  {
   "cell_type": "code",
   "execution_count": 14,
   "metadata": {},
   "outputs": [],
   "source": [
    "engine.dispose()"
   ]
  },
  {
   "cell_type": "code",
   "execution_count": null,
   "metadata": {},
   "outputs": [],
   "source": []
  }
 ],
 "metadata": {
  "kernelspec": {
   "display_name": "Python 3",
   "language": "python",
   "name": "python3"
  },
  "language_info": {
   "codemirror_mode": {
    "name": "ipython",
    "version": 3
   },
   "file_extension": ".py",
   "mimetype": "text/x-python",
   "name": "python",
   "nbconvert_exporter": "python",
   "pygments_lexer": "ipython3",
   "version": "3.6.5"
  }
 },
 "nbformat": 4,
 "nbformat_minor": 2
}
